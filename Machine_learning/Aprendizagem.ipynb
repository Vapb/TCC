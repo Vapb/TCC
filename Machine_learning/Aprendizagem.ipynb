{
 "cells": [
  {
   "cell_type": "markdown",
   "metadata": {},
   "source": [
    "## Código em que é utilizado machine learning para criar detectores de malware apartir das novas bases específicas\n",
    "\n",
    "**Neste exemplo é utilizado a base provider only.csv que corresponde a uma base que possui apenas providers de aplicativos malicioso e benignos**"
   ]
  },
  {
   "cell_type": "code",
   "execution_count": 1,
   "metadata": {},
   "outputs": [],
   "source": [
    "import pandas as pd"
   ]
  },
  {
   "cell_type": "code",
   "execution_count": 2,
   "metadata": {},
   "outputs": [],
   "source": [
    "# Adicionar Base CSV Pre processada desejada \n",
    "df = pd.read_csv('provider_only.csv')"
   ]
  },
  {
   "cell_type": "code",
   "execution_count": 3,
   "metadata": {
    "scrolled": true
   },
   "outputs": [
    {
     "data": {
      "text/html": [
       "<div>\n",
       "<style scoped>\n",
       "    .dataframe tbody tr th:only-of-type {\n",
       "        vertical-align: middle;\n",
       "    }\n",
       "\n",
       "    .dataframe tbody tr th {\n",
       "        vertical-align: top;\n",
       "    }\n",
       "\n",
       "    .dataframe thead th {\n",
       "        text-align: right;\n",
       "    }\n",
       "</style>\n",
       "<table border=\"1\" class=\"dataframe\">\n",
       "  <thead>\n",
       "    <tr style=\"text-align: right;\">\n",
       "      <th></th>\n",
       "      <th>Unnamed: 0</th>\n",
       "      <th>Malware</th>\n",
       "      <th>ABBI.IO.ABBISDK.PROVIDERS.MULTIPROCESSPERFERENCESPROVIDER</th>\n",
       "      <th>ANDRO.PAKISTANTV..BD_PROVIDER</th>\n",
       "      <th>ANDROID.PPMEDIA.PROVIDER.MEDIAPROVIDER</th>\n",
       "      <th>ANDROID.SUPPORT.V4.CONTENT.FILEPROVIDER</th>\n",
       "      <th>ANDROIDX.CORE.CONTENT.FILEPROVIDER</th>\n",
       "      <th>APP.FASTFACEBOOK.COM.FRIENDSLISTCONTENTPROVIDER</th>\n",
       "      <th>APP.FASTFACEBOOK.COM.LISTSCONTENTPROVIDER</th>\n",
       "      <th>APP.FASTFACEBOOK.COM.NEWSCONTENTPROVIDER</th>\n",
       "      <th>...</th>\n",
       "      <th>SOGOU.MOBILE.EXPLORER.PROVIDER.ATHENAPROVIDER</th>\n",
       "      <th>SOGOU.MOBILE.EXPLORER.PROVIDER.BROWSERPROVIDER</th>\n",
       "      <th>SOGOU.MOBILE.EXPLORER.PUSH.SYNC.ACCOUNTPROVIDER</th>\n",
       "      <th>STEALTHYCHIEF.THEME.AEON.CORE.ICON.SEARCHPROVIDER</th>\n",
       "      <th>TV.DANMAKU.BILI.PROVIDERS.BILISEARCHSUGGESTIONPROVIDER</th>\n",
       "      <th>TV.DANMAKU.BILI.PROVIDERS.BILISTATUSPROVIDER</th>\n",
       "      <th>VN.MECORP.IWIN.MYFILECONTENTPROVIDER</th>\n",
       "      <th>WIKEM.CHRIS.WIKEMV3.DICTIONARYPROVIDER</th>\n",
       "      <th>WSJ.UI.SEARCH.SEARCHSUGGESTIONPROVIDER</th>\n",
       "      <th>YOU.IN.SPARK.ENERGY.EBPROVIDER</th>\n",
       "    </tr>\n",
       "  </thead>\n",
       "  <tbody>\n",
       "    <tr>\n",
       "      <td>0</td>\n",
       "      <td>1</td>\n",
       "      <td>1</td>\n",
       "      <td>0.0</td>\n",
       "      <td>0.0</td>\n",
       "      <td>0.0</td>\n",
       "      <td>0.0</td>\n",
       "      <td>0.0</td>\n",
       "      <td>0.0</td>\n",
       "      <td>0.0</td>\n",
       "      <td>0.0</td>\n",
       "      <td>...</td>\n",
       "      <td>0.0</td>\n",
       "      <td>0.0</td>\n",
       "      <td>0.0</td>\n",
       "      <td>0.0</td>\n",
       "      <td>0.0</td>\n",
       "      <td>0.0</td>\n",
       "      <td>0.0</td>\n",
       "      <td>0.0</td>\n",
       "      <td>0.0</td>\n",
       "      <td>0.0</td>\n",
       "    </tr>\n",
       "    <tr>\n",
       "      <td>1</td>\n",
       "      <td>9</td>\n",
       "      <td>1</td>\n",
       "      <td>0.0</td>\n",
       "      <td>0.0</td>\n",
       "      <td>0.0</td>\n",
       "      <td>0.0</td>\n",
       "      <td>0.0</td>\n",
       "      <td>0.0</td>\n",
       "      <td>0.0</td>\n",
       "      <td>0.0</td>\n",
       "      <td>...</td>\n",
       "      <td>0.0</td>\n",
       "      <td>0.0</td>\n",
       "      <td>0.0</td>\n",
       "      <td>0.0</td>\n",
       "      <td>0.0</td>\n",
       "      <td>0.0</td>\n",
       "      <td>0.0</td>\n",
       "      <td>0.0</td>\n",
       "      <td>0.0</td>\n",
       "      <td>0.0</td>\n",
       "    </tr>\n",
       "    <tr>\n",
       "      <td>2</td>\n",
       "      <td>10</td>\n",
       "      <td>1</td>\n",
       "      <td>0.0</td>\n",
       "      <td>0.0</td>\n",
       "      <td>0.0</td>\n",
       "      <td>0.0</td>\n",
       "      <td>0.0</td>\n",
       "      <td>0.0</td>\n",
       "      <td>0.0</td>\n",
       "      <td>0.0</td>\n",
       "      <td>...</td>\n",
       "      <td>0.0</td>\n",
       "      <td>0.0</td>\n",
       "      <td>0.0</td>\n",
       "      <td>0.0</td>\n",
       "      <td>0.0</td>\n",
       "      <td>0.0</td>\n",
       "      <td>0.0</td>\n",
       "      <td>0.0</td>\n",
       "      <td>0.0</td>\n",
       "      <td>0.0</td>\n",
       "    </tr>\n",
       "    <tr>\n",
       "      <td>3</td>\n",
       "      <td>15</td>\n",
       "      <td>1</td>\n",
       "      <td>0.0</td>\n",
       "      <td>0.0</td>\n",
       "      <td>0.0</td>\n",
       "      <td>0.0</td>\n",
       "      <td>0.0</td>\n",
       "      <td>0.0</td>\n",
       "      <td>0.0</td>\n",
       "      <td>0.0</td>\n",
       "      <td>...</td>\n",
       "      <td>0.0</td>\n",
       "      <td>0.0</td>\n",
       "      <td>0.0</td>\n",
       "      <td>0.0</td>\n",
       "      <td>0.0</td>\n",
       "      <td>0.0</td>\n",
       "      <td>0.0</td>\n",
       "      <td>0.0</td>\n",
       "      <td>0.0</td>\n",
       "      <td>0.0</td>\n",
       "    </tr>\n",
       "    <tr>\n",
       "      <td>4</td>\n",
       "      <td>18</td>\n",
       "      <td>1</td>\n",
       "      <td>0.0</td>\n",
       "      <td>0.0</td>\n",
       "      <td>0.0</td>\n",
       "      <td>0.0</td>\n",
       "      <td>0.0</td>\n",
       "      <td>0.0</td>\n",
       "      <td>0.0</td>\n",
       "      <td>0.0</td>\n",
       "      <td>...</td>\n",
       "      <td>0.0</td>\n",
       "      <td>0.0</td>\n",
       "      <td>0.0</td>\n",
       "      <td>0.0</td>\n",
       "      <td>0.0</td>\n",
       "      <td>0.0</td>\n",
       "      <td>0.0</td>\n",
       "      <td>0.0</td>\n",
       "      <td>0.0</td>\n",
       "      <td>0.0</td>\n",
       "    </tr>\n",
       "  </tbody>\n",
       "</table>\n",
       "<p>5 rows × 1433 columns</p>\n",
       "</div>"
      ],
      "text/plain": [
       "   Unnamed: 0  Malware  \\\n",
       "0           1        1   \n",
       "1           9        1   \n",
       "2          10        1   \n",
       "3          15        1   \n",
       "4          18        1   \n",
       "\n",
       "   ABBI.IO.ABBISDK.PROVIDERS.MULTIPROCESSPERFERENCESPROVIDER  \\\n",
       "0                                                0.0           \n",
       "1                                                0.0           \n",
       "2                                                0.0           \n",
       "3                                                0.0           \n",
       "4                                                0.0           \n",
       "\n",
       "   ANDRO.PAKISTANTV..BD_PROVIDER  ANDROID.PPMEDIA.PROVIDER.MEDIAPROVIDER  \\\n",
       "0                            0.0                                     0.0   \n",
       "1                            0.0                                     0.0   \n",
       "2                            0.0                                     0.0   \n",
       "3                            0.0                                     0.0   \n",
       "4                            0.0                                     0.0   \n",
       "\n",
       "   ANDROID.SUPPORT.V4.CONTENT.FILEPROVIDER  \\\n",
       "0                                      0.0   \n",
       "1                                      0.0   \n",
       "2                                      0.0   \n",
       "3                                      0.0   \n",
       "4                                      0.0   \n",
       "\n",
       "   ANDROIDX.CORE.CONTENT.FILEPROVIDER  \\\n",
       "0                                 0.0   \n",
       "1                                 0.0   \n",
       "2                                 0.0   \n",
       "3                                 0.0   \n",
       "4                                 0.0   \n",
       "\n",
       "   APP.FASTFACEBOOK.COM.FRIENDSLISTCONTENTPROVIDER  \\\n",
       "0                                              0.0   \n",
       "1                                              0.0   \n",
       "2                                              0.0   \n",
       "3                                              0.0   \n",
       "4                                              0.0   \n",
       "\n",
       "   APP.FASTFACEBOOK.COM.LISTSCONTENTPROVIDER  \\\n",
       "0                                        0.0   \n",
       "1                                        0.0   \n",
       "2                                        0.0   \n",
       "3                                        0.0   \n",
       "4                                        0.0   \n",
       "\n",
       "   APP.FASTFACEBOOK.COM.NEWSCONTENTPROVIDER  ...  \\\n",
       "0                                       0.0  ...   \n",
       "1                                       0.0  ...   \n",
       "2                                       0.0  ...   \n",
       "3                                       0.0  ...   \n",
       "4                                       0.0  ...   \n",
       "\n",
       "   SOGOU.MOBILE.EXPLORER.PROVIDER.ATHENAPROVIDER  \\\n",
       "0                                            0.0   \n",
       "1                                            0.0   \n",
       "2                                            0.0   \n",
       "3                                            0.0   \n",
       "4                                            0.0   \n",
       "\n",
       "   SOGOU.MOBILE.EXPLORER.PROVIDER.BROWSERPROVIDER  \\\n",
       "0                                             0.0   \n",
       "1                                             0.0   \n",
       "2                                             0.0   \n",
       "3                                             0.0   \n",
       "4                                             0.0   \n",
       "\n",
       "   SOGOU.MOBILE.EXPLORER.PUSH.SYNC.ACCOUNTPROVIDER  \\\n",
       "0                                              0.0   \n",
       "1                                              0.0   \n",
       "2                                              0.0   \n",
       "3                                              0.0   \n",
       "4                                              0.0   \n",
       "\n",
       "   STEALTHYCHIEF.THEME.AEON.CORE.ICON.SEARCHPROVIDER  \\\n",
       "0                                                0.0   \n",
       "1                                                0.0   \n",
       "2                                                0.0   \n",
       "3                                                0.0   \n",
       "4                                                0.0   \n",
       "\n",
       "   TV.DANMAKU.BILI.PROVIDERS.BILISEARCHSUGGESTIONPROVIDER  \\\n",
       "0                                                0.0        \n",
       "1                                                0.0        \n",
       "2                                                0.0        \n",
       "3                                                0.0        \n",
       "4                                                0.0        \n",
       "\n",
       "   TV.DANMAKU.BILI.PROVIDERS.BILISTATUSPROVIDER  \\\n",
       "0                                           0.0   \n",
       "1                                           0.0   \n",
       "2                                           0.0   \n",
       "3                                           0.0   \n",
       "4                                           0.0   \n",
       "\n",
       "   VN.MECORP.IWIN.MYFILECONTENTPROVIDER  \\\n",
       "0                                   0.0   \n",
       "1                                   0.0   \n",
       "2                                   0.0   \n",
       "3                                   0.0   \n",
       "4                                   0.0   \n",
       "\n",
       "   WIKEM.CHRIS.WIKEMV3.DICTIONARYPROVIDER  \\\n",
       "0                                     0.0   \n",
       "1                                     0.0   \n",
       "2                                     0.0   \n",
       "3                                     0.0   \n",
       "4                                     0.0   \n",
       "\n",
       "   WSJ.UI.SEARCH.SEARCHSUGGESTIONPROVIDER  YOU.IN.SPARK.ENERGY.EBPROVIDER  \n",
       "0                                     0.0                             0.0  \n",
       "1                                     0.0                             0.0  \n",
       "2                                     0.0                             0.0  \n",
       "3                                     0.0                             0.0  \n",
       "4                                     0.0                             0.0  \n",
       "\n",
       "[5 rows x 1433 columns]"
      ]
     },
     "execution_count": 3,
     "metadata": {},
     "output_type": "execute_result"
    }
   ],
   "source": [
    "df.head()"
   ]
  },
  {
   "cell_type": "code",
   "execution_count": 4,
   "metadata": {},
   "outputs": [],
   "source": [
    "# Gerar Dataframe com Nomes e Vezes que o valor repetiu\n",
    "x = df.sum()\n",
    "l1 = x.tolist()\n",
    "l2 = df.columns.tolist()\n",
    "fd = pd.DataFrame(list(zip(l2, l1)),columns =['Name', 'val']) "
   ]
  },
  {
   "cell_type": "code",
   "execution_count": 5,
   "metadata": {},
   "outputs": [
    {
     "data": {
      "text/html": [
       "<div>\n",
       "<style scoped>\n",
       "    .dataframe tbody tr th:only-of-type {\n",
       "        vertical-align: middle;\n",
       "    }\n",
       "\n",
       "    .dataframe tbody tr th {\n",
       "        vertical-align: top;\n",
       "    }\n",
       "\n",
       "    .dataframe thead th {\n",
       "        text-align: right;\n",
       "    }\n",
       "</style>\n",
       "<table border=\"1\" class=\"dataframe\">\n",
       "  <thead>\n",
       "    <tr style=\"text-align: right;\">\n",
       "      <th></th>\n",
       "      <th>Name</th>\n",
       "      <th>val</th>\n",
       "    </tr>\n",
       "  </thead>\n",
       "  <tbody>\n",
       "    <tr>\n",
       "      <td>0</td>\n",
       "      <td>Unnamed: 0</td>\n",
       "      <td>3026270.0</td>\n",
       "    </tr>\n",
       "    <tr>\n",
       "      <td>1</td>\n",
       "      <td>Malware</td>\n",
       "      <td>650.0</td>\n",
       "    </tr>\n",
       "    <tr>\n",
       "      <td>2</td>\n",
       "      <td>ABBI.IO.ABBISDK.PROVIDERS.MULTIPROCESSPERFEREN...</td>\n",
       "      <td>1.0</td>\n",
       "    </tr>\n",
       "    <tr>\n",
       "      <td>3</td>\n",
       "      <td>ANDRO.PAKISTANTV..BD_PROVIDER</td>\n",
       "      <td>1.0</td>\n",
       "    </tr>\n",
       "    <tr>\n",
       "      <td>4</td>\n",
       "      <td>ANDROID.PPMEDIA.PROVIDER.MEDIAPROVIDER</td>\n",
       "      <td>4.0</td>\n",
       "    </tr>\n",
       "    <tr>\n",
       "      <td>...</td>\n",
       "      <td>...</td>\n",
       "      <td>...</td>\n",
       "    </tr>\n",
       "    <tr>\n",
       "      <td>1428</td>\n",
       "      <td>TV.DANMAKU.BILI.PROVIDERS.BILISTATUSPROVIDER</td>\n",
       "      <td>1.0</td>\n",
       "    </tr>\n",
       "    <tr>\n",
       "      <td>1429</td>\n",
       "      <td>VN.MECORP.IWIN.MYFILECONTENTPROVIDER</td>\n",
       "      <td>1.0</td>\n",
       "    </tr>\n",
       "    <tr>\n",
       "      <td>1430</td>\n",
       "      <td>WIKEM.CHRIS.WIKEMV3.DICTIONARYPROVIDER</td>\n",
       "      <td>1.0</td>\n",
       "    </tr>\n",
       "    <tr>\n",
       "      <td>1431</td>\n",
       "      <td>WSJ.UI.SEARCH.SEARCHSUGGESTIONPROVIDER</td>\n",
       "      <td>1.0</td>\n",
       "    </tr>\n",
       "    <tr>\n",
       "      <td>1432</td>\n",
       "      <td>YOU.IN.SPARK.ENERGY.EBPROVIDER</td>\n",
       "      <td>1.0</td>\n",
       "    </tr>\n",
       "  </tbody>\n",
       "</table>\n",
       "<p>1433 rows × 2 columns</p>\n",
       "</div>"
      ],
      "text/plain": [
       "                                                   Name        val\n",
       "0                                            Unnamed: 0  3026270.0\n",
       "1                                               Malware      650.0\n",
       "2     ABBI.IO.ABBISDK.PROVIDERS.MULTIPROCESSPERFEREN...        1.0\n",
       "3                         ANDRO.PAKISTANTV..BD_PROVIDER        1.0\n",
       "4                ANDROID.PPMEDIA.PROVIDER.MEDIAPROVIDER        4.0\n",
       "...                                                 ...        ...\n",
       "1428       TV.DANMAKU.BILI.PROVIDERS.BILISTATUSPROVIDER        1.0\n",
       "1429               VN.MECORP.IWIN.MYFILECONTENTPROVIDER        1.0\n",
       "1430             WIKEM.CHRIS.WIKEMV3.DICTIONARYPROVIDER        1.0\n",
       "1431             WSJ.UI.SEARCH.SEARCHSUGGESTIONPROVIDER        1.0\n",
       "1432                     YOU.IN.SPARK.ENERGY.EBPROVIDER        1.0\n",
       "\n",
       "[1433 rows x 2 columns]"
      ]
     },
     "execution_count": 5,
     "metadata": {},
     "output_type": "execute_result"
    }
   ],
   "source": [
    "fd"
   ]
  },
  {
   "cell_type": "code",
   "execution_count": 6,
   "metadata": {},
   "outputs": [
    {
     "data": {
      "text/plain": [
       "(1433, 2)"
      ]
     },
     "execution_count": 6,
     "metadata": {},
     "output_type": "execute_result"
    }
   ],
   "source": [
    "fd.shape"
   ]
  },
  {
   "cell_type": "code",
   "execution_count": 7,
   "metadata": {},
   "outputs": [
    {
     "name": "stdout",
     "output_type": "stream",
     "text": [
      "INFO Dataset:  (350, 2)\n"
     ]
    }
   ],
   "source": [
    "# Numero de recursos chamados mais de uma vez (MAIS DE 12000 recursos nao são chamados)\n",
    "umavez  = fd.loc[fd['val'] > 1]\n",
    "print(\"INFO Dataset: \", umavez.shape)"
   ]
  },
  {
   "cell_type": "code",
   "execution_count": 8,
   "metadata": {},
   "outputs": [
    {
     "name": "stdout",
     "output_type": "stream",
     "text": [
      "INFO Dataset:  (15, 2)\n"
     ]
    }
   ],
   "source": [
    "# Numero de recursos com ANDROID.PERMISSION no Nome\n",
    "android = fd[(fd['Name'].str.contains(\"ANDROID.PRO\"))]\n",
    "print(\"INFO Dataset: \", android.shape)"
   ]
  },
  {
   "cell_type": "code",
   "execution_count": 9,
   "metadata": {},
   "outputs": [
    {
     "name": "stdout",
     "output_type": "stream",
     "text": [
      "INFO Dataset:  (1, 2)\n"
     ]
    }
   ],
   "source": [
    "# Numero de recursos com ANDROID.PERMISSION no Nome\n",
    "androidp = fd[(fd['Name'].str.contains(\"ANDROID.PER\"))]\n",
    "print(\"INFO Dataset: \", androidp.shape)"
   ]
  },
  {
   "cell_type": "code",
   "execution_count": 10,
   "metadata": {
    "scrolled": true
   },
   "outputs": [
    {
     "name": "stdout",
     "output_type": "stream",
     "text": [
      "INFO Dataset:  (14, 2)\n"
     ]
    }
   ],
   "source": [
    "# Numero de recursos com COM.ANDROID no Nome\n",
    "com = fd[(fd['Name'].str.contains(\"COM.ANDROID\"))]\n",
    "print(\"INFO Dataset: \", com.shape)"
   ]
  },
  {
   "cell_type": "code",
   "execution_count": 11,
   "metadata": {},
   "outputs": [
    {
     "name": "stdout",
     "output_type": "stream",
     "text": [
      "INFO Dataset:  (33, 2)\n"
     ]
    }
   ],
   "source": [
    "# Numero de recursos com GOOGLE.ANDROID no Nome\n",
    "google = fd[(fd['Name'].str.contains(\"GOOGLE.ANDROID\"))]\n",
    "print(\"INFO Dataset: \", google.shape)"
   ]
  },
  {
   "cell_type": "code",
   "execution_count": 12,
   "metadata": {},
   "outputs": [
    {
     "name": "stdout",
     "output_type": "stream",
     "text": [
      "INFO Dataset:  (409, 2)\n"
     ]
    }
   ],
   "source": [
    "#  Unir condições\n",
    "new = pd.concat([umavez, android,google,com,androidp])\n",
    "new = new.drop_duplicates()\n",
    "print(\"INFO Dataset: \", new.shape)"
   ]
  },
  {
   "cell_type": "code",
   "execution_count": 13,
   "metadata": {},
   "outputs": [],
   "source": [
    "# LISTA DE PERMISSOES PARA O POC MELHORADO (ANDROID E >2)\n",
    "important = new['Name'].tolist()"
   ]
  },
  {
   "cell_type": "code",
   "execution_count": 14,
   "metadata": {},
   "outputs": [
    {
     "name": "stdout",
     "output_type": "stream",
     "text": [
      "INFO Dataset:  (1388, 409)\n"
     ]
    }
   ],
   "source": [
    "jumbo  = df[important]\n",
    "print(\"INFO Dataset: \", jumbo.shape)"
   ]
  },
  {
   "cell_type": "code",
   "execution_count": 15,
   "metadata": {},
   "outputs": [],
   "source": [
    "# Remover possiveis linhas com apenas zeros\n",
    "jumbo = jumbo[(jumbo.T != 0).any()]"
   ]
  },
  {
   "cell_type": "code",
   "execution_count": 16,
   "metadata": {},
   "outputs": [],
   "source": [
    "# Shuffle and UnderSampling (Redimensionar Base)\n",
    "shuffled_df = jumbo.sample(frac=1,random_state=42)\n",
    "mal_df = shuffled_df.loc[shuffled_df['Malware'] == 1]\n",
    "benign_df = shuffled_df.loc[shuffled_df['Malware'] == 0]\n",
    "\n",
    "if mal_df.shape[0] < benign_df.shape[0]:\n",
    "    benign_df = shuffled_df.loc[shuffled_df['Malware'] == 0].sample(n=mal_df.shape[0],random_state=42)\n",
    "else:\n",
    "    mal_df = shuffled_df.loc[shuffled_df['Malware'] == 1].sample(n=benign_df.shape[0],random_state=42)"
   ]
  },
  {
   "cell_type": "code",
   "execution_count": 17,
   "metadata": {},
   "outputs": [
    {
     "data": {
      "text/plain": [
       "True"
      ]
     },
     "execution_count": 17,
     "metadata": {},
     "output_type": "execute_result"
    }
   ],
   "source": [
    "# CHECK IF MAL = BENI\n",
    "mal_df.shape == benign_df.shape"
   ]
  },
  {
   "cell_type": "code",
   "execution_count": 18,
   "metadata": {},
   "outputs": [],
   "source": [
    "norma = pd.concat([mal_df, benign_df])"
   ]
  },
  {
   "cell_type": "code",
   "execution_count": 19,
   "metadata": {},
   "outputs": [
    {
     "data": {
      "text/plain": [
       "(1300, 409)"
      ]
     },
     "execution_count": 19,
     "metadata": {},
     "output_type": "execute_result"
    }
   ],
   "source": [
    "norma.shape"
   ]
  },
  {
   "cell_type": "code",
   "execution_count": null,
   "metadata": {},
   "outputs": [],
   "source": [
    "#################################################"
   ]
  },
  {
   "cell_type": "markdown",
   "metadata": {},
   "source": [
    "# Tecnicas de Aprendizagem "
   ]
  },
  {
   "cell_type": "code",
   "execution_count": 21,
   "metadata": {},
   "outputs": [],
   "source": [
    "import pandas as pd\n",
    "import numpy as np\n",
    "import matplotlib.pyplot as plt\n",
    "import seaborn as sns\n",
    "from sklearn.model_selection import train_test_split\n",
    "from sklearn.model_selection import KFold\n",
    "from sklearn.metrics import confusion_matrix\n",
    "from sklearn.tree import DecisionTreeClassifier\n",
    "from sklearn.metrics import accuracy_score\n",
    "from sklearn.svm import SVC\n",
    "from sklearn.svm import LinearSVC\n",
    "from sklearn.naive_bayes import GaussianNB\n",
    "from sklearn.naive_bayes import BernoulliNB\n",
    "from sklearn.model_selection import StratifiedKFold\n",
    "from sklearn.neighbors import KNeighborsClassifier\n",
    "from sklearn.ensemble import RandomForestClassifier"
   ]
  },
  {
   "cell_type": "code",
   "execution_count": 22,
   "metadata": {},
   "outputs": [],
   "source": [
    "# SEPARAR VALORES RECURSOS e VALOR da CLASSSE \n",
    "x = norma.values[:,2:norma.shape[1]]\n",
    "y = norma.values[:,1]\n",
    "y = y.astype('int')"
   ]
  },
  {
   "cell_type": "code",
   "execution_count": 23,
   "metadata": {},
   "outputs": [],
   "source": [
    "# Example Train_Test_Split (70-30)\n",
    "x_train, x_test, y_train, y_test = train_test_split(x, y, test_size = 0.25, random_state= 100)"
   ]
  },
  {
   "cell_type": "code",
   "execution_count": 24,
   "metadata": {},
   "outputs": [],
   "source": [
    "# Meu Classificador\n",
    "def Classificador(tipo,x_train,y_train,x_test,y_test):\n",
    "    if tipo == 'arv':\n",
    "        clf = DecisionTreeClassifier()\n",
    "    elif tipo == 'knn':\n",
    "        clf = KNeighborsClassifier(n_neighbors=5)\n",
    "    elif tipo == 'svm':\n",
    "        clf = SVC(kernel= 'linear',gamma = 'auto')\n",
    "    elif tipo == 'bb':\n",
    "        clf = BernoulliNB()\n",
    "    elif tipo == 'rf':\n",
    "        clf = RandomForestClassifier(n_jobs=20, random_state=0 , n_estimators = 100)    \n",
    "    else: \n",
    "        print ('WHAT ?')\n",
    "    \n",
    "    clf.fit(x_train,y_train)\n",
    "    predict = clf.predict(x_test)\n",
    "    score = accuracy_score(y_test,predict)*100\n",
    "    \n",
    "    return (predict,score)"
   ]
  },
  {
   "cell_type": "code",
   "execution_count": 25,
   "metadata": {},
   "outputs": [
    {
     "name": "stdout",
     "output_type": "stream",
     "text": [
      "Precisão é  83.6923076923077\n"
     ]
    }
   ],
   "source": [
    "# Simple Arvore\n",
    "predict_arv, score = Classificador('arv',x_train,y_train,x_test,y_test)\n",
    "print('Precisão é ',score)"
   ]
  },
  {
   "cell_type": "code",
   "execution_count": 26,
   "metadata": {},
   "outputs": [
    {
     "name": "stdout",
     "output_type": "stream",
     "text": [
      "Precisão é  80.3076923076923\n"
     ]
    }
   ],
   "source": [
    "# Simple KNN\n",
    "predict_knn, score = Classificador('knn',x_train,y_train,x_test,y_test)\n",
    "print('Precisão é ',score)"
   ]
  },
  {
   "cell_type": "code",
   "execution_count": 27,
   "metadata": {},
   "outputs": [
    {
     "name": "stdout",
     "output_type": "stream",
     "text": [
      "Precisão é  83.6923076923077\n"
     ]
    }
   ],
   "source": [
    "# Simple SVM\n",
    "predict_svm, score = Classificador('svm',x_train,y_train,x_test,y_test)\n",
    "print('Precisão é ',score)"
   ]
  },
  {
   "cell_type": "code",
   "execution_count": 28,
   "metadata": {},
   "outputs": [
    {
     "name": "stdout",
     "output_type": "stream",
     "text": [
      "Precisão é  65.53846153846153\n"
     ]
    }
   ],
   "source": [
    "# Simple Bayes \n",
    "predict_bb, score = Classificador('bb',x_train,y_train,x_test,y_test)\n",
    "print('Precisão é ',score)"
   ]
  },
  {
   "cell_type": "code",
   "execution_count": 29,
   "metadata": {},
   "outputs": [
    {
     "name": "stdout",
     "output_type": "stream",
     "text": [
      "Precisão é  84.0\n"
     ]
    }
   ],
   "source": [
    "# Simples RANDOM FOREST\n",
    "predict_rf, score = Classificador('rf',x_train,y_train,x_test,y_test)\n",
    "print('Precisão é ',score)"
   ]
  },
  {
   "cell_type": "code",
   "execution_count": 30,
   "metadata": {},
   "outputs": [
    {
     "data": {
      "image/png": "[encoded data removed]",
      "text/plain": [
       "<Figure size 2520x1080 with 10 Axes>"
      ]
     },
     "metadata": {
      "needs_background": "light"
     },
     "output_type": "display_data"
    }
   ],
   "source": [
    "# Criar MATRIZES Baseado no Train_Test_Split (75-25)\n",
    "\n",
    "lista_p = [predict_arv,predict_knn,predict_svm,predict_bb,predict_rf]\n",
    "name = ['ARV','KNN','SVM','Bayes','Random F']\n",
    "pos = 1\n",
    "fig = plt.figure(figsize = [35, 15])\n",
    "\n",
    "for i in lista_p:\n",
    "    ax = fig.add_subplot(1, 5, pos)\n",
    "    cm = confusion_matrix(y_test,i)\n",
    "    cm_df = pd.DataFrame(cm,index = ['N_MALWARE','MALWARE'],columns = ['N_MALWARE','MALWARE'])\n",
    "    sns.heatmap(cm_df,annot=True,fmt=\".2f\",ax=ax, annot_kws={\"size\": 30},cmap=\"Blues\")\n",
    "    bottom, top = ax.get_ylim()\n",
    "    ax.set_ylim(bottom + 0.5, top - 0.5)\n",
    "    \n",
    "    ax.xaxis.set_ticklabels(['N_MALWARE', 'MALWARE'],fontsize=20); ax.yaxis.set_ticklabels(['N_MALWARE', 'MALWARE'],fontsize=20);\n",
    "    ax.set_title(name[pos-1],fontsize=50)\n",
    "    plt.xlabel(\"Predictions\", fontsize=30)\n",
    "    plt.ylabel(\"Test Values\", fontsize=30)\n",
    "    \n",
    "    pos = pos + 1\n",
    "\n",
    "fig.suptitle('PER INT', fontsize=30)\n",
    "plt.show()"
   ]
  },
  {
   "cell_type": "code",
   "execution_count": 31,
   "metadata": {},
   "outputs": [],
   "source": [
    "# FOLD FOR KFOLD\n",
    "folds = StratifiedKFold(n_splits=5)"
   ]
  },
  {
   "cell_type": "code",
   "execution_count": 32,
   "metadata": {},
   "outputs": [
    {
     "name": "stdout",
     "output_type": "stream",
     "text": [
      "KFOLD 1 : 76.153846\n",
      "KFOLD 2 : 78.076923\n",
      "KFOLD 3 : 78.461538\n",
      "KFOLD 4 : 77.692308\n",
      "KFOLD 5 : 74.615385\n",
      "MEDIA DOS VALORES : 77.0\n"
     ]
    }
   ],
   "source": [
    "# KFOLD ARV \n",
    "resultados = []\n",
    "total = 0\n",
    "valor = 1\n",
    "\n",
    "for train_i, test_i in folds.split(x,y):\n",
    "    x_train, x_test, y_train, y_test = x[train_i], x[test_i], y[train_i], y[test_i]\n",
    "    trash, Score = Classificador('arv',x_train,y_train,x_test,y_test)\n",
    "    total = total + Score\n",
    "    print(\"KFOLD %d : %f\" % (valor,Score))\n",
    "    valor = valor + 1\n",
    "\n",
    "print(\"MEDIA DOS VALORES : \" + str(total/5))"
   ]
  },
  {
   "cell_type": "code",
   "execution_count": 33,
   "metadata": {},
   "outputs": [
    {
     "name": "stdout",
     "output_type": "stream",
     "text": [
      "KFOLD 1 : 58.846154\n",
      "KFOLD 2 : 64.230769\n",
      "KFOLD 3 : 58.461538\n",
      "KFOLD 4 : 61.153846\n",
      "KFOLD 5 : 61.153846\n",
      "MEDIA DOS VALORES : 60.769230769230774\n"
     ]
    }
   ],
   "source": [
    "# KFOLD KNN\n",
    "resultados = []\n",
    "total = 0\n",
    "valor = 1\n",
    "\n",
    "for train_i, test_i in folds.split(x,y):\n",
    "    x_train, x_test, y_train, y_test = x[train_i], x[test_i], y[train_i], y[test_i]\n",
    "    trash, Score = Classificador('knn',x_train,y_train,x_test,y_test)\n",
    "    total = total + Score\n",
    "    print(\"KFOLD %d : %f\" % (valor,Score))\n",
    "    valor = valor + 1\n",
    "\n",
    "print(\"MEDIA DOS VALORES : \" + str(total/5))"
   ]
  },
  {
   "cell_type": "code",
   "execution_count": 34,
   "metadata": {},
   "outputs": [
    {
     "name": "stdout",
     "output_type": "stream",
     "text": [
      "KFOLD 1 : 78.461538\n",
      "KFOLD 2 : 78.076923\n",
      "KFOLD 3 : 77.692308\n",
      "KFOLD 4 : 78.461538\n",
      "KFOLD 5 : 75.000000\n",
      "MEDIA DOS VALORES : 77.53846153846153\n"
     ]
    }
   ],
   "source": [
    "# KFOLD SVM\n",
    "resultados = []\n",
    "total = 0\n",
    "valor = 1\n",
    "\n",
    "for train_i, test_i in folds.split(x,y):\n",
    "    x_train, x_test, y_train, y_test = x[train_i], x[test_i], y[train_i], y[test_i]\n",
    "    trash, Score = Classificador('svm',x_train,y_train,x_test,y_test)\n",
    "    total = total + Score\n",
    "    print(\"KFOLD %d : %f\" % (valor,Score))\n",
    "    valor = valor + 1\n",
    "\n",
    "print(\"MEDIA DOS VALORES : \" + str(total/5))"
   ]
  },
  {
   "cell_type": "code",
   "execution_count": 35,
   "metadata": {},
   "outputs": [
    {
     "name": "stdout",
     "output_type": "stream",
     "text": [
      "KFOLD 1 : 66.923077\n",
      "KFOLD 2 : 75.000000\n",
      "KFOLD 3 : 71.538462\n",
      "KFOLD 4 : 71.923077\n",
      "KFOLD 5 : 71.153846\n",
      "MEDIA DOS VALORES : 71.3076923076923\n"
     ]
    }
   ],
   "source": [
    "# KFOLD BAYES BB \n",
    "resultados = []\n",
    "total = 0\n",
    "valor = 1\n",
    "\n",
    "for train_i, test_i in folds.split(x,y):\n",
    "    x_train, x_test, y_train, y_test = x[train_i], x[test_i], y[train_i], y[test_i]\n",
    "    trash, Score = Classificador('bb',x_train,y_train,x_test,y_test)\n",
    "    total = total + Score\n",
    "    print(\"KFOLD %d : %f\" % (valor,Score))\n",
    "    valor = valor + 1\n",
    "\n",
    "print(\"MEDIA DOS VALORES : \" + str(total/5))"
   ]
  },
  {
   "cell_type": "code",
   "execution_count": 36,
   "metadata": {},
   "outputs": [
    {
     "name": "stdout",
     "output_type": "stream",
     "text": [
      "KFOLD 1 : 76.538462\n",
      "KFOLD 2 : 78.846154\n",
      "KFOLD 3 : 77.307692\n",
      "KFOLD 4 : 78.846154\n",
      "KFOLD 5 : 75.769231\n",
      "MEDIA DOS VALORES : 77.46153846153847\n"
     ]
    }
   ],
   "source": [
    "# KFOLD RANDOM F\n",
    "resultados = []\n",
    "total = 0\n",
    "valor = 1\n",
    "\n",
    "for train_i, test_i in folds.split(x,y):\n",
    "    x_train, x_test, y_train, y_test = x[train_i], x[test_i], y[train_i], y[test_i]\n",
    "    trash, Score = Classificador('rf',x_train,y_train,x_test,y_test)\n",
    "    total = total + Score\n",
    "    print(\"KFOLD %d : %f\" % (valor,Score))\n",
    "    valor = valor + 1\n",
    "\n",
    "print(\"MEDIA DOS VALORES : \" + str(total/5))"
   ]
  }
 ],
 "metadata": {
  "kernelspec": {
   "display_name": "Python 3",
   "language": "python",
   "name": "python3"
  },
  "language_info": {
   "codemirror_mode": {
    "name": "ipython",
    "version": 3
   },
   "file_extension": ".py",
   "mimetype": "text/x-python",
   "name": "python",
   "nbconvert_exporter": "python",
   "pygments_lexer": "ipython3",
   "version": "3.7.4"
  }
 },
 "nbformat": 4,
 "nbformat_minor": 2
}
