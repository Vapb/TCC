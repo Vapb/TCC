{
 "cells": [
  {
   "cell_type": "markdown",
   "metadata": {},
   "source": [
    "## Código utilizado em todas as bases para produzir bases específicas para os testes da monografia\n",
    "\n",
    "**Neste exemplo é utilizado a base All_untreated.csv que é resultado da soma de todas as bases**"
   ]
  },
  {
   "cell_type": "code",
   "execution_count": 1,
   "metadata": {},
   "outputs": [],
   "source": [
    "import pandas as pd\n",
    "import ast"
   ]
  },
  {
   "cell_type": "code",
   "execution_count": 2,
   "metadata": {},
   "outputs": [],
   "source": [
    "# Read Database.csv\n",
    "data = pd.read_csv('ALL_Untreated.csv', sep = ',')"
   ]
  },
  {
   "cell_type": "code",
   "execution_count": 3,
   "metadata": {},
   "outputs": [
    {
     "data": {
      "text/html": [
       "<div>\n",
       "<style scoped>\n",
       "    .dataframe tbody tr th:only-of-type {\n",
       "        vertical-align: middle;\n",
       "    }\n",
       "\n",
       "    .dataframe tbody tr th {\n",
       "        vertical-align: top;\n",
       "    }\n",
       "\n",
       "    .dataframe thead th {\n",
       "        text-align: right;\n",
       "    }\n",
       "</style>\n",
       "<table border=\"1\" class=\"dataframe\">\n",
       "  <thead>\n",
       "    <tr style=\"text-align: right;\">\n",
       "      <th></th>\n",
       "      <th>Numero</th>\n",
       "      <th>Malware</th>\n",
       "      <th>Name</th>\n",
       "      <th>PERMISSIONS</th>\n",
       "      <th>PROVIDER</th>\n",
       "      <th>SERVICES</th>\n",
       "      <th>SINT</th>\n",
       "      <th>RECEIVERS</th>\n",
       "      <th>RINT</th>\n",
       "    </tr>\n",
       "  </thead>\n",
       "  <tbody>\n",
       "    <tr>\n",
       "      <td>0</td>\n",
       "      <td>2</td>\n",
       "      <td>1</td>\n",
       "      <td>D:\\\\torent\\\\Malware\\\\VirusShare_002d0119f75a44...</td>\n",
       "      <td>['ANDROID.PERMISSION.READ_SYNC_SETTINGS', 'AND...</td>\n",
       "      <td>[]</td>\n",
       "      <td>[]</td>\n",
       "      <td>[]</td>\n",
       "      <td>[]</td>\n",
       "      <td>[]</td>\n",
       "    </tr>\n",
       "    <tr>\n",
       "      <td>1</td>\n",
       "      <td>3</td>\n",
       "      <td>1</td>\n",
       "      <td>D:\\\\torent\\\\Malware\\\\VirusShare_003efc6a5bf24a...</td>\n",
       "      <td>['ANDROID.PERMISSION.NFC', 'ANDROID.PERMISSION...</td>\n",
       "      <td>['COM.OPPO.MUSIC..PROVIDERS.MUSICPROVIDER']</td>\n",
       "      <td>['COM.OPPO.MUSIC.SERVICE.MEDIAPLAYBACKSERVICE'...</td>\n",
       "      <td>['COM.OPPO.MUSIC.SERVICE.COMMAND', 'COM.OPPO.M...</td>\n",
       "      <td>['COM.OPPO.MUSIC.SERVICE.MEDIABUTTONINTENTRECE...</td>\n",
       "      <td>['ANDROID.INTENT.ACTION.MEDIA_BUTTON', 'MUSIC....</td>\n",
       "    </tr>\n",
       "    <tr>\n",
       "      <td>2</td>\n",
       "      <td>4</td>\n",
       "      <td>1</td>\n",
       "      <td>D:\\\\torent\\\\Malware\\\\VirusShare_003fbe2039c2b0...</td>\n",
       "      <td>['ANDROID.PERMISSION.READ_SYNC_SETTINGS', 'COM...</td>\n",
       "      <td>[]</td>\n",
       "      <td>['COM.TTPAY.DROIDPLUGIN.PLUGINMANAGERSERVICE',...</td>\n",
       "      <td>['ANDROID.INTENT.ACTION.MAIN', 'COM.TTPAY.DROI...</td>\n",
       "      <td>[]</td>\n",
       "      <td>[]</td>\n",
       "    </tr>\n",
       "    <tr>\n",
       "      <td>3</td>\n",
       "      <td>5</td>\n",
       "      <td>1</td>\n",
       "      <td>D:\\\\torent\\\\Malware\\\\VirusShare_003fd8b8ac0ccd...</td>\n",
       "      <td>['ANDROID.PERMISSION.CHANGE_CONFIGURATION', 'A...</td>\n",
       "      <td>[]</td>\n",
       "      <td>['COM.BAIDU.LOCATION.F', 'COM.IMMOMO.MOMO.ANDR...</td>\n",
       "      <td>['COM.IMMOMO.MOMO.ANDROID.SERVICE.LOCATION_SER...</td>\n",
       "      <td>['COM.IMMOMO.MOMO.ANDROID.BROADCAST.NEWVERSION...</td>\n",
       "      <td>['COM.IMMOMO.MOMO.ACTION.HASNEWVERSION', 'ANDR...</td>\n",
       "    </tr>\n",
       "    <tr>\n",
       "      <td>4</td>\n",
       "      <td>6</td>\n",
       "      <td>1</td>\n",
       "      <td>D:\\\\torent\\\\Malware\\\\VirusShare_004e490fd28272...</td>\n",
       "      <td>['ANDROID.PERMISSION.SET_WALLPAPER', 'ANDROID....</td>\n",
       "      <td>[]</td>\n",
       "      <td>['COM.ANDROID.GOOGLE.APPP.FRAME.STARTSERVICE',...</td>\n",
       "      <td>['COM.NET.ACTION.FORGUIDE']</td>\n",
       "      <td>['COM.ANDROID.GOOGLE.APPP.FRAME.SYSTEMBROADCAS...</td>\n",
       "      <td>['ANDROID.NET.CONN.CONNECTIVITY_CHANGE', 'ANDR...</td>\n",
       "    </tr>\n",
       "  </tbody>\n",
       "</table>\n",
       "</div>"
      ],
      "text/plain": [
       "   Numero  Malware                                               Name  \\\n",
       "0       2        1  D:\\\\torent\\\\Malware\\\\VirusShare_002d0119f75a44...   \n",
       "1       3        1  D:\\\\torent\\\\Malware\\\\VirusShare_003efc6a5bf24a...   \n",
       "2       4        1  D:\\\\torent\\\\Malware\\\\VirusShare_003fbe2039c2b0...   \n",
       "3       5        1  D:\\\\torent\\\\Malware\\\\VirusShare_003fd8b8ac0ccd...   \n",
       "4       6        1  D:\\\\torent\\\\Malware\\\\VirusShare_004e490fd28272...   \n",
       "\n",
       "                                         PERMISSIONS  \\\n",
       "0  ['ANDROID.PERMISSION.READ_SYNC_SETTINGS', 'AND...   \n",
       "1  ['ANDROID.PERMISSION.NFC', 'ANDROID.PERMISSION...   \n",
       "2  ['ANDROID.PERMISSION.READ_SYNC_SETTINGS', 'COM...   \n",
       "3  ['ANDROID.PERMISSION.CHANGE_CONFIGURATION', 'A...   \n",
       "4  ['ANDROID.PERMISSION.SET_WALLPAPER', 'ANDROID....   \n",
       "\n",
       "                                      PROVIDER  \\\n",
       "0                                           []   \n",
       "1  ['COM.OPPO.MUSIC..PROVIDERS.MUSICPROVIDER']   \n",
       "2                                           []   \n",
       "3                                           []   \n",
       "4                                           []   \n",
       "\n",
       "                                            SERVICES  \\\n",
       "0                                                 []   \n",
       "1  ['COM.OPPO.MUSIC.SERVICE.MEDIAPLAYBACKSERVICE'...   \n",
       "2  ['COM.TTPAY.DROIDPLUGIN.PLUGINMANAGERSERVICE',...   \n",
       "3  ['COM.BAIDU.LOCATION.F', 'COM.IMMOMO.MOMO.ANDR...   \n",
       "4  ['COM.ANDROID.GOOGLE.APPP.FRAME.STARTSERVICE',...   \n",
       "\n",
       "                                                SINT  \\\n",
       "0                                                 []   \n",
       "1  ['COM.OPPO.MUSIC.SERVICE.COMMAND', 'COM.OPPO.M...   \n",
       "2  ['ANDROID.INTENT.ACTION.MAIN', 'COM.TTPAY.DROI...   \n",
       "3  ['COM.IMMOMO.MOMO.ANDROID.SERVICE.LOCATION_SER...   \n",
       "4                        ['COM.NET.ACTION.FORGUIDE']   \n",
       "\n",
       "                                           RECEIVERS  \\\n",
       "0                                                 []   \n",
       "1  ['COM.OPPO.MUSIC.SERVICE.MEDIABUTTONINTENTRECE...   \n",
       "2                                                 []   \n",
       "3  ['COM.IMMOMO.MOMO.ANDROID.BROADCAST.NEWVERSION...   \n",
       "4  ['COM.ANDROID.GOOGLE.APPP.FRAME.SYSTEMBROADCAS...   \n",
       "\n",
       "                                                RINT  \n",
       "0                                                 []  \n",
       "1  ['ANDROID.INTENT.ACTION.MEDIA_BUTTON', 'MUSIC....  \n",
       "2                                                 []  \n",
       "3  ['COM.IMMOMO.MOMO.ACTION.HASNEWVERSION', 'ANDR...  \n",
       "4  ['ANDROID.NET.CONN.CONNECTIVITY_CHANGE', 'ANDR...  "
      ]
     },
     "execution_count": 3,
     "metadata": {},
     "output_type": "execute_result"
    }
   ],
   "source": [
    "data.head()"
   ]
  },
  {
   "cell_type": "code",
   "execution_count": 4,
   "metadata": {},
   "outputs": [
    {
     "data": {
      "text/plain": [
       "(3326, 9)"
      ]
     },
     "execution_count": 4,
     "metadata": {},
     "output_type": "execute_result"
    }
   ],
   "source": [
    "m = data.loc[data['Malware']==1]\n",
    "m.shape"
   ]
  },
  {
   "cell_type": "code",
   "execution_count": 5,
   "metadata": {},
   "outputs": [
    {
     "data": {
      "text/plain": [
       "(1588, 9)"
      ]
     },
     "execution_count": 5,
     "metadata": {},
     "output_type": "execute_result"
    }
   ],
   "source": [
    "b = data.loc[data['Malware']==0]\n",
    "b.shape"
   ]
  },
  {
   "cell_type": "code",
   "execution_count": 6,
   "metadata": {},
   "outputs": [],
   "source": [
    "# Função Transformar Uma coluna com listas em um dataset \n",
    "def Trans(col,df):\n",
    "    y = ((df[col]).tolist())\n",
    "    x = []\n",
    "    for i in y:\n",
    "        x.append(ast.literal_eval(i))\n",
    "    df_col = pd.DataFrame(x)\n",
    "    col_obj = df_col.stack()\n",
    "    col_df = pd.get_dummies(col_obj)\n",
    "    col_df = col_df.sum(level=0)\n",
    "\n",
    "    return col_df"
   ]
  },
  {
   "cell_type": "code",
   "execution_count": 7,
   "metadata": {},
   "outputs": [],
   "source": [
    "### Transformar Colunas em Dataframes\n",
    "permissions_df = Trans('PERMISSIONS',data)\n",
    "provider_df = Trans('PROVIDER',data)\n",
    "services_df = Trans('SERVICES',data)\n",
    "sint_df = Trans('SINT',data)\n",
    "receivers_df = Trans('RECEIVERS',data)\n",
    "rint_df = Trans('RINT',data)"
   ]
  },
  {
   "cell_type": "code",
   "execution_count": 8,
   "metadata": {},
   "outputs": [],
   "source": [
    "# Juntar Bases com Base antiga\n",
    "\n",
    "# Todos os recursos mesma base\n",
    "final = pd.concat([data, permissions_df, rint_df, receivers_df, sint_df, services_df, provider_df], axis=1)\n",
    "\n",
    "# Base Com Permissions, Intents e Provider\n",
    "pro_per_int_only = pd.concat([data,permissions_df,provider_df,rint_df,sint_df], axis=1)\n",
    "\n",
    "# Base com Permissions, Intents\n",
    "per_int_only = pd.concat([data,permissions_df,rint_df,sint_df], axis=1)\n",
    "\n",
    "# Base com Permissions, Provider\n",
    "per_pro_only = pd.concat([data,permissions_df,provider_df], axis=1)\n",
    "\n",
    "# Base com Intents , Provider\n",
    "pro_int_only = pd.concat([data,provider_df,rint_df,sint_df], axis=1)\n",
    "\n",
    "# Base com Intents\n",
    "int_only = pd.concat([data,rint_df,sint_df], axis=1)\n",
    "\n",
    "# Bases Separadas\n",
    "permissions_only = pd.concat([data,permissions_df], axis=1)\n",
    "provider_only = pd.concat([data,provider_df], axis =1)\n",
    "services_only = pd.concat([data,services_df], axis =1)\n",
    "sint_only = pd.concat([data,sint_df], axis =1)\n",
    "receivers_only = pd.concat([data,receivers_df], axis =1)\n",
    "rint_only = pd.concat([data,rint_df], axis =1)"
   ]
  },
  {
   "cell_type": "code",
   "execution_count": 9,
   "metadata": {
    "scrolled": true
   },
   "outputs": [],
   "source": [
    "# Droping colunas não nescessarias\n",
    "lista_dfs = [final,permissions_only,provider_only,services_only,sint_only,receivers_only,rint_only,pro_per_int_only,per_int_only,per_pro_only,pro_int_only,int_only]\n",
    "\n",
    "for i in lista_dfs:\n",
    "    i.drop(['PERMISSIONS','Numero','Name','PROVIDER','SERVICES','SINT', 'RECEIVERS','RINT'],axis = 1,inplace = True)"
   ]
  },
  {
   "cell_type": "code",
   "execution_count": 10,
   "metadata": {},
   "outputs": [],
   "source": [
    "# Remover Colunas nulas e rows com apenas 0\n",
    "# OS dataframes do Alone são feitos para analisar os atributos entao removemos as linhas que nao tem\n",
    "# Ja mixed temos dataframes hiposteses\n",
    "\n",
    "mixed = [pro_per_int_only,per_int_only,per_pro_only,pro_int_only,int_only,final]\n",
    "\n",
    "for i in mixed:\n",
    "    i.fillna(0, inplace=True) \n",
    "\n",
    "alone = [permissions_only,provider_only,services_only,sint_only,receivers_only,rint_only]\n",
    "\n",
    "for i in lista_dfs:\n",
    "    i.dropna(inplace=True)"
   ]
  },
  {
   "cell_type": "code",
   "execution_count": 11,
   "metadata": {},
   "outputs": [],
   "source": [
    "# Remover linhas com apenas 0\n",
    "\n",
    "final = final[(final.T != 0).any()]\n",
    "permissions_only = permissions_only[(permissions_only.T != 0).any()]\n",
    "provider_only = provider_only[(provider_only.T != 0).any()]\n",
    "services_only = services_only[(services_only.T != 0).any()]\n",
    "sint_only = sint_only[(sint_only.T != 0).any()]\n",
    "receivers_only = receivers_only[(receivers_only.T != 0).any()]\n",
    "rint_only = rint_only[(rint_only.T != 0).any()]\n",
    "\n",
    "pro_per_int_only = pro_per_int_only[(pro_per_int_only.T != 0).any()]\n",
    "per_int_only = per_int_only[(per_int_only.T != 0).any()]\n",
    "per_pro_only = per_pro_only[(per_pro_only.T != 0).any()]\n",
    "pro_int_only = pro_int_only[(pro_int_only.T != 0).any()]\n",
    "int_only = int_only[(int_only.T != 0).any()]\n"
   ]
  },
  {
   "cell_type": "code",
   "execution_count": 12,
   "metadata": {},
   "outputs": [
    {
     "name": "stdout",
     "output_type": "stream",
     "text": [
      "(4914, 29347)\n",
      "(4877, 2506)\n",
      "(1388, 1432)\n",
      "(3241, 9472)\n",
      "(1525, 2136)\n",
      "(3147, 8391)\n",
      "(3089, 5415)\n",
      "(4914, 11486)\n",
      "(4914, 10055)\n",
      "(4901, 3937)\n",
      "(4523, 8981)\n",
      "(4476, 7550)\n"
     ]
    }
   ],
   "source": [
    "# SEE SHAPES\n",
    "lista_dfs = [final,permissions_only,provider_only,services_only,sint_only,receivers_only,rint_only,pro_per_int_only,per_int_only,per_pro_only,pro_int_only,int_only]\n",
    "\n",
    "for i in lista_dfs:\n",
    "    print(i.shape)"
   ]
  },
  {
   "cell_type": "code",
   "execution_count": 13,
   "metadata": {},
   "outputs": [],
   "source": [
    "final.to_csv('AndroZoo_TREATED.csv')\n",
    "pro_per_int_only.to_csv('pro_per_int_only.csv')\n",
    "per_int_only.to_csv('per_int_only.csv')\n",
    "per_pro_only.to_csv('per_pro_only.csv')\n",
    "pro_int_only.to_csv('pro_int_only.csv')\n",
    "int_only.to_csv('int_only.csv')\n",
    "permissions_only.to_csv('permissions_only.csv')\n",
    "provider_only.to_csv('provider_only.csv')\n",
    "services_only.to_csv('services_only.csv')\n",
    "sint_only.to_csv('sint_only.csv')\n",
    "receivers_only.to_csv('receivers_only.csv')\n",
    "rint_only.to_csv('rint_only.csv')"
   ]
  }
 ],
 "metadata": {
  "kernelspec": {
   "display_name": "Python 3",
   "language": "python",
   "name": "python3"
  },
  "language_info": {
   "codemirror_mode": {
    "name": "ipython",
    "version": 3
   },
   "file_extension": ".py",
   "mimetype": "text/x-python",
   "name": "python",
   "nbconvert_exporter": "python",
   "pygments_lexer": "ipython3",
   "version": "3.7.4"
  }
 },
 "nbformat": 4,
 "nbformat_minor": 2
}
